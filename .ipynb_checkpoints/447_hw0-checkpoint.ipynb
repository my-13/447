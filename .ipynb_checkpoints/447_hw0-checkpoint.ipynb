{
 "cells": [
  {
   "cell_type": "markdown",
   "metadata": {
    "id": "gqyprtgkiL91"
   },
   "source": [
    "# Group work and HW0 due 5p Fri April 2\n",
    "\n",
    "Group work and homework will be graded on participation this week; so long as you make an effort on each problem and upload a legible pdf to Canvas, you will receive full credit (1 point for each sub-problem).  However, you are responsible for reviewing the prerequisite material needed to understand and solve the self-assessment problems, since this material will be leveraged extensively in this class.\n",
    "\n",
    "Future homeworks will be graded on both participation and correctness (1 point each, for a total of 2 points for each sub-problem). You can get full credit on the group work portion if you attend class and submit your work with your classmates."
   ]
  },
  {
   "cell_type": "markdown",
   "metadata": {},
   "source": [
    "# Group work -- Wed March 29\n",
    "\n",
    "I encourage you to attend the group work session on Wednesdays to complete the group work portion of your homework -- you will get full credit as long as you participate and make an effort on the problem. This is also a great opportunity to get to know your classmates. Only one person needs to submit."
   ]
  },
  {
   "cell_type": "markdown",
   "metadata": {},
   "source": [
    "## 1. Groupmates: [Names of everyone in your group]"
   ]
  },
  {
   "cell_type": "markdown",
   "metadata": {},
   "source": [
    "## 2. [15-20 min]: Introductions\n",
    "\n",
    "Spend some time introducing yourselves. Give your group members a bit of information about your background, what your experience has been like at UW and in the ECE (or other) department so far, and why you're interested in taking this class.\n",
    "\n",
    "Log: You do not need to report on your introductions unless you would like to! (But I would love to hear about it, so you are welcome to share if you feel moved to do so.) "
   ]
  },
  {
   "cell_type": "markdown",
   "metadata": {},
   "source": [
    "## 3. [30 min] linear algebra \n",
    "\n",
    "Textbooks:  [Introduction to Applied Linear Algebra](http://vmls-book.stanford.edu/) by Boyd and Vandenberghe; [Linear Algebra](http://joshua.smcvt.edu/linearalgebra/) by Hefferon.\n",
    "\n",
    "In the following problems, let \n",
    "$A = \\left[\\begin{array}{} A_{11} & A_{12} \\\\ 0 & A_{22} \\end{array}\\right]\\in\\mathbb{R}^{2\\times 2}$ \n",
    "be a matrix with ***shape*** $2\\times 2$,\n",
    "$B = \\left[\\begin{array}{} B_{11} \\\\ B_{21} \\end{array}\\right]\\in\\mathbb{R}^{2\\times 1}$\n",
    "be a matrix with shape $2\\times 1$,\n",
    "and\n",
    "$x = \\left[\\begin{array}{} x_{1} \\\\ x_{2} \\end{array}\\right]\\in\\mathbb{R}^{2}$\n",
    "be a vector with ***length*** $2$. \n",
    "\n",
    "a. Determine the eigenvalues of $A$.\n",
    "\n",
    "b. Compute the determinant of $A$.\n",
    "\n",
    "c. Compute $Ax$ and $x^\\top A^\\top$ using matrix multiplication, where $M^\\top$ denotes the ***transpose*** of matrix $M$.\n",
    "\n",
    "d. Why can't you compute $x A$ or $A^\\top x^\\top$ using matrix multiplication?\n",
    "\n",
    "e. Compute $B + x$; is the result a matrix or vector?"
   ]
  },
  {
   "cell_type": "markdown",
   "metadata": {},
   "source": [
    "### * end of group work -- download as PDF and submit as part of group assignment *"
   ]
  },
  {
   "cell_type": "markdown",
   "metadata": {},
   "source": [
    "# HW 0 \n",
    "\n",
    "Please do the writeup and submit this portion individually"
   ]
  },
  {
   "cell_type": "markdown",
   "metadata": {
    "id": "Z9UZsQ2VDbIZ"
   },
   "source": [
    "# 0. [preferred name]; [preferred pronouns]\n",
    "\n",
    "a. Approximately how many hours did you spend on this assignment?\n",
    "\n",
    "b. Were there specific problems that took much longer than others?\n",
    "\n",
    "c. What class meeting(s) did you participate in this week?\n",
    "\n",
    "d. What timezone(s) were you working in this week?\n"
   ]
  },
  {
   "cell_type": "markdown",
   "metadata": {
    "id": "nJK4knK98S1g"
   },
   "source": [
    "## 1. Welcome to Control Systems!\n",
    "\n",
    "***Purpose:*** your answers to these questions will help us get to know you, and may inform the examples and applications we cover in lecture and homework.\n",
    "\n",
    "a. Please fill out this google form so we can get to know you better: https://forms.gle/bvPtuFyqZwjdDjAA6\n",
    "\n",
    "b. Join the course discord and introduce yourself: https://discord.gg/Mqcr2f25"
   ]
  },
  {
   "cell_type": "markdown",
   "metadata": {
    "id": "3JRlYikh8Vqy"
   },
   "source": [
    "## 2. Self-assessment\n",
    "\n",
    "ECE 447 is a senior-level course with multiple prerequisites including EE 235 (signals and systems) and MATH 308 (linear algebra), both of which have their own prerequisites -- notably, CSE 142 (programming) and MATH 126 (multivariable calculus).  This course will draw heavily on the knowledge you acquired in these prerequisite courses; we will not cover background material in lecture.  \n",
    "\n",
    "The following questions will help you refresh your background knowledge from prerequisite courses.  You may need to consult textbooks, websites, or other resources to answer the questions; suggested resources are indicated for each block of questions.\n",
    "\n"
   ]
  },
  {
   "cell_type": "markdown",
   "metadata": {
    "id": "pXGFG8qq8gHn"
   },
   "source": [
    "### 2.1 Calculus\n",
    "\n",
    "Textbooks:  [Calculus](https://ocw.mit.edu/resources/res-18-001-calculus-online-textbook-spring-2005/textbook/) (MIT OpenCourseWare) by Strang; [Real mathematical analysis](http://link.springer.com/book/10.1007%2F978-3-319-17771-7) by Pugh.\n",
    "\n",
    "a. Consider the polynomial expression $a x^2 + b x + c$.\n",
    "\n",
    "***Note:*** this expression can be regarded as a quadratic (i.e. degree 2) polynomial in the variable $x$ or an affine (i.e. degree 1) polynomial in the variable $a$.\n",
    "\n",
    "a.1 Regarding the expression as a polynomial in $x$, what are the roots?\n",
    "\n",
    "a.2 Regarding the expression as a polynomial in $a$, what are the roots?\n",
    "\n",
    "a.3 Are any extra assumptions required for your answers to (a.1) or (a.2) to make sense?\n",
    "\n",
    "\n",
    "b. Consider the complex number $z = r e^{\\theta j}\\in\\mathbb{C}$, where $r,\\theta\\in\\mathbb{R}$.\n",
    "\n",
    "b.1 What angle does $z$ make with the real axis?\n",
    "\n",
    "b.2 When $r = 1, \\theta = \\pi/2$, what does $z$ equal?\n",
    "\n",
    "b.3 If we regard $z$ as a vector in the two-dimensional Cartesian plane $\\mathbb{R}^2$, what are the $x$- and $y$-coordinates of $z$?\n",
    "\n",
    "\n",
    "c. Consider the functions $f : X \\rightarrow Y$, $g : Y \\rightarrow Z$.\n",
    "\n",
    "***Note:*** if you are unfamiliar with this notation, it is a compact way to say \"$f$ is a rule that assigns a unique value $f(x)$ in the set $Y$ to each element $x$ in the set $X$\".  You may be more familiar with the notation $y = f(x)$ where $x\\in X$ (that is, $x$ is an element of the set $X$) and $y\\in Y$ (that is, $y$ is an element of the set $Y$).  The set $X$ is called the ***domain of $f$***.\n",
    "\n",
    "c.1 With $h : X \\rightarrow Z$ defined by $h(x) = g(f(x))$, and supposing $f$ and $g$ are continuously differentiable, provide an expression for $\\frac{d}{dx} h(x)$ that is valid for all $x\\in X$.\n",
    "\n",
    "c.2 Assuming $f$ is two times continuously differentiable at $x_0$, give the general expression for the second-order Taylor series of $f$ at $x_0$; your expression should have three terms in it corresponding to the function value, the value of its derivative, and the value of its second derivative.\n",
    "\n",
    "c.3 With $f(x) = \\sin x$, compute the first-order Taylor series of $f$ about $x_0 =\\pi$, i.e. only include the first two terms from your expression in (c.2)."
   ]
  },
  {
   "cell_type": "markdown",
   "metadata": {
    "id": "ZqRkPvk89wJX"
   },
   "source": [
    "### 2.2 signals and systems\n",
    "\n",
    "Textbooks:  [Systems, Signals, and Transforms](https://alliance-primo.hosted.exlibrisgroup.com/primo-explore/fulldisplay?docid=CP71259169820001451&context=L&vid=UW&lang=en_US) by Phillips, Parr, and Riskin; [Signals and Systems](https://alliance-primo.hosted.exlibrisgroup.com/primo-explore/fulldisplay?docid=CP71145530020001451&context=L&vid=UW&lang=en_US) by Oppenheim, Willsky, and Hamid.\n",
    "\n",
    "In the following problems, let \n",
    "$S$ be a single-input/single-output (SISO) linear time-invariant (LTI) system with time-domain ***impulse response*** $h:\\mathbb{R}\\rightarrow\\mathbb{R}$,\n",
    "let\n",
    "$u:\\mathbb{R}\\rightarrow\\mathbb{R}$ be a time-domain ***input*** to the system,\n",
    "and let\n",
    "$y:\\mathbb{R}\\rightarrow\\mathbb{R}$ be the time-domain ***output*** corresponding to input $u$.\n",
    "\n",
    "a. Give a time-domain expression for $y$, that is, write $y(t)$ in terms of $h$ and $u$; be explicit about any notation you introduce.\n",
    "\n",
    "Let \n",
    "$H = \\mathcal{F}h$, \n",
    "$Y = \\mathcal{F}y$, \n",
    "$U = \\mathcal{F}u$\n",
    "denote the Fourier transforms of the time-domain impulse response, input, and output, respectively.\n",
    "\n",
    "b. Give a frequency-domain expression for $Y(\\omega)$, that is, write $Y(\\omega)$ in terms of $H(\\omega)$ and $U(\\omega)$.\n",
    "\n",
    "***Notice:***  your expression for $y(t)$ in (a.) depends on the value of $h$ and $u$ at ***all times*** (not just the time $t$), whereas your expression for $Y(\\omega)$ in (b.) depends only on the value of $H$ and $U$ at frequency $\\omega$.\n",
    "This illustrates the key strength of frequency-domain analysis -- convolution in the time domain turns into multiplication in the frequency domain.\n",
    "\n",
    "c. Give the general expression for the Fourier transformation $\\mathcal{F}$, that is, write $H(\\omega)$ in terms of $h$.\n",
    "\n",
    "d. Give the general expression for the ***inverse*** Fourier transformation $\\mathcal{F}^{-1}$, that is, write $h(t)$ in terms of $H$.\n",
    "\n",
    "***Notice:*** since an integral is an infinite sum, you can infer from the expressions in (c.) and (d.) that \n",
    "the time-domain signal $h$ can be represented as an infinite linear combination of frequency-domain exponentials,\n",
    "and similarly that \n",
    "the frequency-domain signal $H$ can be represented as an infinite linear combination of time-domain exponentials."
   ]
  },
  {
   "cell_type": "markdown",
   "metadata": {},
   "source": [
    "## 3. [30-45 min] scientific computing\n",
    "\n",
    "Resources:  [NumPy for Matlab users](http://mathesaurus.sourceforge.net/matlab-numpy.html); [Dive into Python](http://www.diveintopython3.net/); [NumPy Manual](https://docs.scipy.org/doc/numpy/reference/); [Colaboratory Notebook](https://colab.research.google.com/notebooks/welcome.ipynb)\n",
    "\n",
    "a. Familiarize yourself with the Colaboratory Notebook and Programming in Python using the resources on the ***Computational Tools*** section of the Syllabus (Canvas home page).\n",
    "\n",
    "In the following problems, let \n",
    "$A = \\left[\\begin{array}{} 0 & 1 \\\\ -10 & -1 \\end{array}\\right]$,\n",
    "$B = \\left[\\begin{array}{} 0 \\\\ 1 \\end{array}\\right]$.\n",
    "\n",
    "b. Determine the eigenvalues of $A$ using a numerical linear algebra library (`numpy.linalg.eigvals` in NumPy)."
   ]
  },
  {
   "cell_type": "code",
   "execution_count": null,
   "metadata": {
    "collapsed": true
   },
   "outputs": [],
   "source": [
    "# code part b here"
   ]
  },
  {
   "cell_type": "markdown",
   "metadata": {},
   "source": [
    "c. Compute the determinant of $A$  using a numerical linear algebra library (`numpy.linalg.det` in NumPy)."
   ]
  },
  {
   "cell_type": "code",
   "execution_count": 3,
   "metadata": {
    "collapsed": true
   },
   "outputs": [],
   "source": [
    "# code part c here"
   ]
  },
  {
   "cell_type": "markdown",
   "metadata": {},
   "source": [
    "d. Compute $AB$ and $B^\\top A^\\top$ using numerical matrix multiplication (`numpy.dot` in NumPy; ***not*** \"`*`\"); what are the resulting ***shapes***?"
   ]
  },
  {
   "cell_type": "code",
   "execution_count": null,
   "metadata": {
    "collapsed": true
   },
   "outputs": [],
   "source": [
    "# code part d here"
   ]
  },
  {
   "cell_type": "markdown",
   "metadata": {},
   "source": [
    "e. What happens (i.e. what error do you receive) when you try the following numerical matrix multiplications: $B A$ or $A^\\top B^\\top$?"
   ]
  },
  {
   "cell_type": "code",
   "execution_count": 4,
   "metadata": {
    "collapsed": true
   },
   "outputs": [],
   "source": [
    "# code part e here"
   ]
  }
 ],
 "metadata": {
  "colab": {
   "collapsed_sections": [],
   "name": "447_hw0.ipynb",
   "provenance": []
  },
  "kernelspec": {
   "display_name": "Python 3",
   "language": "python",
   "name": "python3"
  },
  "language_info": {
   "codemirror_mode": {
    "name": "ipython",
    "version": 3
   },
   "file_extension": ".py",
   "mimetype": "text/x-python",
   "name": "python",
   "nbconvert_exporter": "python",
   "pygments_lexer": "ipython3",
   "version": "3.5.4"
  }
 },
 "nbformat": 4,
 "nbformat_minor": 1
}
